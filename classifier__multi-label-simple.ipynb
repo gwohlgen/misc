{
 "cells": [
  {
   "cell_type": "markdown",
   "metadata": {},
   "source": [
    "# Multi-Label Classifier"
   ]
  },
  {
   "cell_type": "code",
   "execution_count": null,
   "metadata": {},
   "outputs": [],
   "source": []
  },
  {
   "cell_type": "code",
   "execution_count": 2,
   "metadata": {
    "scrolled": true
   },
   "outputs": [
    {
     "name": "stdout",
     "output_type": "stream",
     "text": [
      "Better speed can be achieved with apex installed from https://www.github.com/nvidia/apex.\n",
      "2019-04-21 10:38:30,532 Reading data from /home/wohlg/itmo/misc/cooking_classification/simple_and_preprocessed\n",
      "2019-04-21 10:38:30,533 Train: /home/wohlg/itmo/misc/cooking_classification/simple_and_preprocessed/cooking.train\n",
      "2019-04-21 10:38:30,533 Dev: /home/wohlg/itmo/misc/cooking_classification/simple_and_preprocessed/cooking.valid\n",
      "2019-04-21 10:38:30,534 Test: /home/wohlg/itmo/misc/cooking_classification/simple_and_preprocessed/cooking.test\n",
      "\n",
      "DocumentLSTMEmbeddings(\n",
      "  (embeddings): StackedEmbeddings(\n",
      "    (list_embedding_0): WordEmbeddings()\n",
      "  )\n",
      "  (word_reprojection_map): Linear(in_features=100, out_features=256, bias=True)\n",
      "  (rnn): GRU(256, 512)\n",
      "  (dropout): Dropout(p=0.5)\n",
      ")\n"
     ]
    },
    {
     "name": "stderr",
     "output_type": "stream",
     "text": [
      "/home/wohlg/anaconda3/lib/python3.6/site-packages/ipykernel_launcher.py:24: DeprecationWarning: Call to deprecated class DocumentLSTMEmbeddings. (The functionality of this class is moved to 'DocumentRNNEmbeddings') -- Deprecated since version 0.4.\n"
     ]
    }
   ],
   "source": [
    "from flair.data_fetcher import NLPTaskDataFetcher\n",
    "from flair.embeddings import WordEmbeddings, FlairEmbeddings, DocumentLSTMEmbeddings, CharacterEmbeddings\n",
    "from flair.models import TextClassifier\n",
    "from flair.trainers import ModelTrainer\n",
    "from pathlib import Path\n",
    "\n",
    "data_path = '/home/wohlg/itmo/misc/cooking_classification/simple_and_preprocessed'\n",
    "corpus = NLPTaskDataFetcher.load_classification_corpus(Path(data_path), \n",
    "                                                       test_file='cooking.test', \n",
    "                                                       dev_file='cooking.valid', \n",
    "                                                       train_file='cooking.train')\n",
    "\n",
    "word_embeddings = [WordEmbeddings('glove'),\n",
    "                  # FlairEmbeddings('news-forward-fast'), \n",
    "                  # FlairEmbeddings('news-backward-fast')\n",
    "                  ]\n",
    "\n",
    "#word_embeddings = [CharacterEmbeddings()]\n",
    "#word_embeddings = [WordEmbeddings('glove')]\n",
    "\n",
    "document_embeddings = DocumentLSTMEmbeddings(word_embeddings, \n",
    "                                             hidden_size=512, \n",
    "                                             reproject_words=True, \n",
    "                                             reproject_words_dimension=256)\n",
    "\n",
    "print()\n",
    "print(document_embeddings)\n"
   ]
  },
  {
   "cell_type": "code",
   "execution_count": 3,
   "metadata": {},
   "outputs": [
    {
     "name": "stdout",
     "output_type": "stream",
     "text": [
      "TaggedCorpus: 7502 train + 1000 dev + 1000 test sentences\n",
      "{\n",
      "    \"TRAIN\": {\n",
      "        \"dataset\": \"TRAIN\",\n",
      "        \"total_number_of_documents\": 7502,\n",
      "        \"number_of_documents_per_class\": {\n",
      "            \"sauce\": 327,\n",
      "            \"cheese\": 227,\n",
      "            \"food-safety\": 943,\n",
      "            \"storage-method\": 359,\n",
      "            \"equipment\": 649,\n",
      "            \"bread\": 564,\n",
      "            \"baking\": 1133,\n",
      "            \"substitutions\": 710,\n",
      "            \"chocolate\": 227,\n",
      "            \"oven\": 223,\n",
      "            \"storage-lifetime\": 252,\n",
      "            \"cake\": 309,\n",
      "            \"flavor\": 290,\n",
      "            \"beef\": 190,\n",
      "            \"food-science\": 220,\n",
      "            \"cookies\": 179,\n",
      "            \"fruit\": 211,\n",
      "            \"vegetables\": 243,\n",
      "            \"meat\": 327,\n",
      "            \"oil\": 224,\n",
      "            \"chicken\": 369,\n",
      "            \"eggs\": 344,\n",
      "            \"pasta\": 184,\n",
      "            \"frying\": 227,\n",
      "            \"temperature\": 211,\n",
      "            \"sugar\": 206,\n",
      "            \"food-preservation\": 192,\n",
      "            \"freezing\": 281,\n",
      "            \"coffee\": 229,\n",
      "            \"dough\": 224\n",
      "        },\n",
      "        \"number_of_tokens_per_tag\": {},\n",
      "        \"number_of_tokens\": {\n",
      "            \"total\": 74593,\n",
      "            \"min\": 2,\n",
      "            \"max\": 37,\n",
      "            \"avg\": 9.943081844841375\n",
      "        }\n",
      "    },\n",
      "    \"TEST\": {\n",
      "        \"dataset\": \"TEST\",\n",
      "        \"total_number_of_documents\": 1000,\n",
      "        \"number_of_documents_per_class\": {\n",
      "            \"food-safety\": 124,\n",
      "            \"beef\": 31,\n",
      "            \"chicken\": 62,\n",
      "            \"baking\": 146,\n",
      "            \"equipment\": 85,\n",
      "            \"dough\": 29,\n",
      "            \"vegetables\": 33,\n",
      "            \"pasta\": 29,\n",
      "            \"sauce\": 44,\n",
      "            \"eggs\": 41,\n",
      "            \"cookies\": 32,\n",
      "            \"bread\": 56,\n",
      "            \"substitutions\": 107,\n",
      "            \"food-science\": 20,\n",
      "            \"food-preservation\": 24,\n",
      "            \"meat\": 46,\n",
      "            \"temperature\": 33,\n",
      "            \"flavor\": 51,\n",
      "            \"storage-method\": 36,\n",
      "            \"chocolate\": 32,\n",
      "            \"coffee\": 29,\n",
      "            \"freezing\": 33,\n",
      "            \"storage-lifetime\": 24,\n",
      "            \"cheese\": 37,\n",
      "            \"fruit\": 16,\n",
      "            \"oil\": 24,\n",
      "            \"sugar\": 20,\n",
      "            \"cake\": 48,\n",
      "            \"oven\": 34,\n",
      "            \"frying\": 25\n",
      "        },\n",
      "        \"number_of_tokens_per_tag\": {},\n",
      "        \"number_of_tokens\": {\n",
      "            \"total\": 9850,\n",
      "            \"min\": 2,\n",
      "            \"max\": 31,\n",
      "            \"avg\": 9.85\n",
      "        }\n",
      "    },\n",
      "    \"DEV\": {\n",
      "        \"dataset\": \"DEV\",\n",
      "        \"total_number_of_documents\": 1000,\n",
      "        \"number_of_documents_per_class\": {\n",
      "            \"substitutions\": 103,\n",
      "            \"frying\": 28,\n",
      "            \"flavor\": 37,\n",
      "            \"coffee\": 28,\n",
      "            \"eggs\": 45,\n",
      "            \"beef\": 21,\n",
      "            \"temperature\": 29,\n",
      "            \"sauce\": 30,\n",
      "            \"freezing\": 27,\n",
      "            \"baking\": 165,\n",
      "            \"oil\": 34,\n",
      "            \"chocolate\": 31,\n",
      "            \"meat\": 43,\n",
      "            \"food-safety\": 144,\n",
      "            \"storage-lifetime\": 36,\n",
      "            \"vegetables\": 28,\n",
      "            \"equipment\": 82,\n",
      "            \"cheese\": 35,\n",
      "            \"cookies\": 36,\n",
      "            \"bread\": 67,\n",
      "            \"pasta\": 26,\n",
      "            \"chicken\": 57,\n",
      "            \"food-science\": 23,\n",
      "            \"sugar\": 28,\n",
      "            \"storage-method\": 51,\n",
      "            \"food-preservation\": 18,\n",
      "            \"oven\": 33,\n",
      "            \"dough\": 26,\n",
      "            \"fruit\": 22,\n",
      "            \"cake\": 45\n",
      "        },\n",
      "        \"number_of_tokens_per_tag\": {},\n",
      "        \"number_of_tokens\": {\n",
      "            \"total\": 10011,\n",
      "            \"min\": 2,\n",
      "            \"max\": 31,\n",
      "            \"avg\": 10.011\n",
      "        }\n",
      "    }\n",
      "}\n"
     ]
    }
   ],
   "source": [
    "print(corpus)\n",
    "print(corpus.obtain_statistics())"
   ]
  },
  {
   "cell_type": "code",
   "execution_count": 4,
   "metadata": {},
   "outputs": [
    {
     "name": "stdout",
     "output_type": "stream",
     "text": [
      "2019-04-21 10:39:46,377 ----------------------------------------------------------------------------------------------------\n",
      "2019-04-21 10:39:46,378 Evaluation method: MICRO_F1_SCORE\n",
      "2019-04-21 10:39:46,405 ----------------------------------------------------------------------------------------------------\n",
      "2019-04-21 10:39:46,541 epoch 1 - iter 0/235 - loss 0.02209757\n",
      "2019-04-21 10:39:48,754 epoch 1 - iter 23/235 - loss 0.01400830\n",
      "2019-04-21 10:39:50,957 epoch 1 - iter 46/235 - loss 0.01073977\n",
      "2019-04-21 10:39:53,534 epoch 1 - iter 69/235 - loss 0.00926511\n",
      "2019-04-21 10:39:56,666 epoch 1 - iter 92/235 - loss 0.00849951\n",
      "2019-04-21 10:39:59,865 epoch 1 - iter 115/235 - loss 0.00801554\n",
      "2019-04-21 10:40:03,058 epoch 1 - iter 138/235 - loss 0.00768011\n",
      "2019-04-21 10:40:06,447 epoch 1 - iter 161/235 - loss 0.00745158\n",
      "2019-04-21 10:40:09,162 epoch 1 - iter 184/235 - loss 0.00726992\n",
      "2019-04-21 10:40:11,618 epoch 1 - iter 207/235 - loss 0.00713704\n",
      "2019-04-21 10:40:15,126 epoch 1 - iter 230/235 - loss 0.00701417\n",
      "2019-04-21 10:40:15,753 ----------------------------------------------------------------------------------------------------\n",
      "2019-04-21 10:40:15,755 EPOCH 1 done: loss 0.0070 - lr 0.1000 - bad epochs 0\n",
      "2019-04-21 10:40:16,969 DEV  : loss 0.00586258 - f-score 0.0000 - acc 0.0000\n",
      "2019-04-21 10:40:18,827 TEST : loss 0.00582633 - f-score 0.0000 - acc 0.0000\n",
      "2019-04-21 10:40:23,216 ----------------------------------------------------------------------------------------------------\n",
      "2019-04-21 10:40:23,341 epoch 2 - iter 0/235 - loss 0.00580056\n",
      "2019-04-21 10:40:25,773 epoch 2 - iter 23/235 - loss 0.00594266\n",
      "2019-04-21 10:40:28,210 epoch 2 - iter 46/235 - loss 0.00592542\n",
      "2019-04-21 10:40:30,913 epoch 2 - iter 69/235 - loss 0.00597526\n",
      "2019-04-21 10:40:33,264 epoch 2 - iter 92/235 - loss 0.00593168\n",
      "2019-04-21 10:40:35,847 epoch 2 - iter 115/235 - loss 0.00591091\n",
      "2019-04-21 10:40:38,672 epoch 2 - iter 138/235 - loss 0.00591796\n",
      "2019-04-21 10:40:41,039 epoch 2 - iter 161/235 - loss 0.00591730\n",
      "2019-04-21 10:40:43,425 epoch 2 - iter 184/235 - loss 0.00592032\n",
      "2019-04-21 10:40:45,666 epoch 2 - iter 207/235 - loss 0.00593029\n",
      "2019-04-21 10:40:47,954 epoch 2 - iter 230/235 - loss 0.00592452\n",
      "2019-04-21 10:40:48,339 ----------------------------------------------------------------------------------------------------\n",
      "2019-04-21 10:40:48,340 EPOCH 2 done: loss 0.0059 - lr 0.1000 - bad epochs 0\n",
      "2019-04-21 10:40:49,351 DEV  : loss 0.00577551 - f-score 0.0000 - acc 0.0000\n",
      "2019-04-21 10:40:50,325 TEST : loss 0.00574818 - f-score 0.0000 - acc 0.0000\n",
      "2019-04-21 10:40:54,001 ----------------------------------------------------------------------------------------------------\n",
      "2019-04-21 10:40:54,112 epoch 3 - iter 0/235 - loss 0.00716778\n",
      "2019-04-21 10:40:57,085 epoch 3 - iter 23/235 - loss 0.00597587\n",
      "2019-04-21 10:40:59,288 epoch 3 - iter 46/235 - loss 0.00592461\n",
      "2019-04-21 10:41:01,730 epoch 3 - iter 69/235 - loss 0.00588818\n",
      "2019-04-21 10:41:04,753 epoch 3 - iter 92/235 - loss 0.00590159\n",
      "2019-04-21 10:41:07,144 epoch 3 - iter 115/235 - loss 0.00590220\n",
      "2019-04-21 10:41:09,366 epoch 3 - iter 138/235 - loss 0.00588255\n",
      "2019-04-21 10:41:11,715 epoch 3 - iter 161/235 - loss 0.00586752\n",
      "2019-04-21 10:41:14,034 epoch 3 - iter 184/235 - loss 0.00585371\n",
      "2019-04-21 10:41:16,353 epoch 3 - iter 207/235 - loss 0.00584965\n",
      "2019-04-21 10:41:18,724 epoch 3 - iter 230/235 - loss 0.00585266\n",
      "2019-04-21 10:41:19,252 ----------------------------------------------------------------------------------------------------\n",
      "2019-04-21 10:41:19,260 EPOCH 3 done: loss 0.0059 - lr 0.1000 - bad epochs 0\n",
      "2019-04-21 10:41:20,317 DEV  : loss 0.00570960 - f-score 0.0000 - acc 0.0000\n",
      "2019-04-21 10:41:21,303 TEST : loss 0.00569217 - f-score 0.0000 - acc 0.0000\n",
      "2019-04-21 10:41:25,019 ----------------------------------------------------------------------------------------------------\n",
      "2019-04-21 10:41:25,171 epoch 4 - iter 0/235 - loss 0.00612047\n",
      "2019-04-21 10:41:27,392 epoch 4 - iter 23/235 - loss 0.00597738\n",
      "2019-04-21 10:41:30,476 epoch 4 - iter 46/235 - loss 0.00583543\n",
      "2019-04-21 10:41:32,887 epoch 4 - iter 69/235 - loss 0.00579853\n",
      "2019-04-21 10:41:33,327 ----------------------------------------------------------------------------------------------------\n",
      "2019-04-21 10:41:33,328 Exiting from training early.\n",
      "2019-04-21 10:41:33,331 Saving model ...\n",
      "2019-04-21 10:41:37,456 Done.\n",
      "2019-04-21 10:41:37,458 ----------------------------------------------------------------------------------------------------\n",
      "2019-04-21 10:41:37,459 Testing using best model ...\n",
      "2019-04-21 10:41:37,462 loading file /tmp/best-model.pt\n"
     ]
    },
    {
     "name": "stderr",
     "output_type": "stream",
     "text": [
      "/home/wohlg/anaconda3/lib/python3.6/site-packages/torch/serialization.py:542: DeprecationWarning: Call to deprecated class DocumentLSTMEmbeddings. (The functionality of this class is moved to 'DocumentRNNEmbeddings') -- Deprecated since version 0.4.\n",
      "  result = unpickler.load()\n"
     ]
    },
    {
     "name": "stdout",
     "output_type": "stream",
     "text": [
      "2019-04-21 10:41:39,681 MICRO_AVG: acc 0.0 - f1-score 0.0\n",
      "2019-04-21 10:41:39,682 MACRO_AVG: acc 0.0 - f1-score 0.0\n",
      "2019-04-21 10:41:39,683 baking     tp: 0 - fp: 0 - fn: 146 - tn: 854 - precision: 0.0000 - recall: 0.0000 - accuracy: 0.0000 - f1-score: 0.0000\n",
      "2019-04-21 10:41:39,683 beef       tp: 0 - fp: 0 - fn: 31 - tn: 969 - precision: 0.0000 - recall: 0.0000 - accuracy: 0.0000 - f1-score: 0.0000\n",
      "2019-04-21 10:41:39,684 bread      tp: 0 - fp: 0 - fn: 56 - tn: 944 - precision: 0.0000 - recall: 0.0000 - accuracy: 0.0000 - f1-score: 0.0000\n",
      "2019-04-21 10:41:39,684 cake       tp: 0 - fp: 0 - fn: 48 - tn: 952 - precision: 0.0000 - recall: 0.0000 - accuracy: 0.0000 - f1-score: 0.0000\n",
      "2019-04-21 10:41:39,685 cheese     tp: 0 - fp: 0 - fn: 37 - tn: 963 - precision: 0.0000 - recall: 0.0000 - accuracy: 0.0000 - f1-score: 0.0000\n",
      "2019-04-21 10:41:39,686 chicken    tp: 0 - fp: 0 - fn: 62 - tn: 938 - precision: 0.0000 - recall: 0.0000 - accuracy: 0.0000 - f1-score: 0.0000\n",
      "2019-04-21 10:41:39,686 chocolate  tp: 0 - fp: 0 - fn: 32 - tn: 968 - precision: 0.0000 - recall: 0.0000 - accuracy: 0.0000 - f1-score: 0.0000\n",
      "2019-04-21 10:41:39,687 coffee     tp: 0 - fp: 0 - fn: 29 - tn: 971 - precision: 0.0000 - recall: 0.0000 - accuracy: 0.0000 - f1-score: 0.0000\n",
      "2019-04-21 10:41:39,687 cookies    tp: 0 - fp: 0 - fn: 32 - tn: 968 - precision: 0.0000 - recall: 0.0000 - accuracy: 0.0000 - f1-score: 0.0000\n",
      "2019-04-21 10:41:39,688 dough      tp: 0 - fp: 0 - fn: 29 - tn: 971 - precision: 0.0000 - recall: 0.0000 - accuracy: 0.0000 - f1-score: 0.0000\n",
      "2019-04-21 10:41:39,689 eggs       tp: 0 - fp: 0 - fn: 41 - tn: 959 - precision: 0.0000 - recall: 0.0000 - accuracy: 0.0000 - f1-score: 0.0000\n",
      "2019-04-21 10:41:39,689 equipment  tp: 0 - fp: 0 - fn: 85 - tn: 915 - precision: 0.0000 - recall: 0.0000 - accuracy: 0.0000 - f1-score: 0.0000\n",
      "2019-04-21 10:41:39,690 flavor     tp: 0 - fp: 0 - fn: 51 - tn: 949 - precision: 0.0000 - recall: 0.0000 - accuracy: 0.0000 - f1-score: 0.0000\n",
      "2019-04-21 10:41:39,691 food-preservation tp: 0 - fp: 0 - fn: 24 - tn: 976 - precision: 0.0000 - recall: 0.0000 - accuracy: 0.0000 - f1-score: 0.0000\n",
      "2019-04-21 10:41:39,692 food-safety tp: 0 - fp: 0 - fn: 124 - tn: 876 - precision: 0.0000 - recall: 0.0000 - accuracy: 0.0000 - f1-score: 0.0000\n",
      "2019-04-21 10:41:39,692 food-science tp: 0 - fp: 0 - fn: 20 - tn: 980 - precision: 0.0000 - recall: 0.0000 - accuracy: 0.0000 - f1-score: 0.0000\n",
      "2019-04-21 10:41:39,693 freezing   tp: 0 - fp: 0 - fn: 33 - tn: 967 - precision: 0.0000 - recall: 0.0000 - accuracy: 0.0000 - f1-score: 0.0000\n",
      "2019-04-21 10:41:39,694 fruit      tp: 0 - fp: 0 - fn: 16 - tn: 984 - precision: 0.0000 - recall: 0.0000 - accuracy: 0.0000 - f1-score: 0.0000\n",
      "2019-04-21 10:41:39,694 frying     tp: 0 - fp: 0 - fn: 25 - tn: 975 - precision: 0.0000 - recall: 0.0000 - accuracy: 0.0000 - f1-score: 0.0000\n",
      "2019-04-21 10:41:39,696 meat       tp: 0 - fp: 0 - fn: 46 - tn: 954 - precision: 0.0000 - recall: 0.0000 - accuracy: 0.0000 - f1-score: 0.0000\n",
      "2019-04-21 10:41:39,698 oil        tp: 0 - fp: 0 - fn: 24 - tn: 976 - precision: 0.0000 - recall: 0.0000 - accuracy: 0.0000 - f1-score: 0.0000\n",
      "2019-04-21 10:41:39,699 oven       tp: 0 - fp: 0 - fn: 34 - tn: 966 - precision: 0.0000 - recall: 0.0000 - accuracy: 0.0000 - f1-score: 0.0000\n",
      "2019-04-21 10:41:39,700 pasta      tp: 0 - fp: 0 - fn: 29 - tn: 971 - precision: 0.0000 - recall: 0.0000 - accuracy: 0.0000 - f1-score: 0.0000\n",
      "2019-04-21 10:41:39,701 sauce      tp: 0 - fp: 0 - fn: 44 - tn: 956 - precision: 0.0000 - recall: 0.0000 - accuracy: 0.0000 - f1-score: 0.0000\n",
      "2019-04-21 10:41:39,702 storage-lifetime tp: 0 - fp: 0 - fn: 24 - tn: 976 - precision: 0.0000 - recall: 0.0000 - accuracy: 0.0000 - f1-score: 0.0000\n",
      "2019-04-21 10:41:39,703 storage-method tp: 0 - fp: 0 - fn: 36 - tn: 964 - precision: 0.0000 - recall: 0.0000 - accuracy: 0.0000 - f1-score: 0.0000\n",
      "2019-04-21 10:41:39,704 substitutions tp: 0 - fp: 1 - fn: 107 - tn: 892 - precision: 0.0000 - recall: 0.0000 - accuracy: 0.0000 - f1-score: 0.0000\n",
      "2019-04-21 10:41:39,705 sugar      tp: 0 - fp: 0 - fn: 20 - tn: 980 - precision: 0.0000 - recall: 0.0000 - accuracy: 0.0000 - f1-score: 0.0000\n",
      "2019-04-21 10:41:39,710 temperature tp: 0 - fp: 0 - fn: 33 - tn: 967 - precision: 0.0000 - recall: 0.0000 - accuracy: 0.0000 - f1-score: 0.0000\n",
      "2019-04-21 10:41:39,712 vegetables tp: 0 - fp: 0 - fn: 33 - tn: 967 - precision: 0.0000 - recall: 0.0000 - accuracy: 0.0000 - f1-score: 0.0000\n",
      "2019-04-21 10:41:39,717 ----------------------------------------------------------------------------------------------------\n"
     ]
    },
    {
     "data": {
      "text/plain": [
       "{'test_score': 0.0,\n",
       " 'dev_score_history': [0.0, 0.0, 0.0],\n",
       " 'train_loss_history': [0.007012629895901813,\n",
       "  0.005934814311478558,\n",
       "  0.005868137669353541],\n",
       " 'dev_loss_history': [0.005862580146640539,\n",
       "  0.0057755145244300365,\n",
       "  0.00570960296317935]}"
      ]
     },
     "execution_count": 4,
     "metadata": {},
     "output_type": "execute_result"
    }
   ],
   "source": [
    "classifier = TextClassifier(document_embeddings, \n",
    "                            label_dictionary=corpus.make_label_dictionary(), \n",
    "                            multi_label=True)\n",
    "\n",
    "trainer = ModelTrainer(classifier, corpus)\n",
    "\n",
    "trainer.train('/tmp', max_epochs=20)"
   ]
  },
  {
   "cell_type": "code",
   "execution_count": 5,
   "metadata": {},
   "outputs": [
    {
     "name": "stdout",
     "output_type": "stream",
     "text": [
      "2019-04-21 10:41:46,314 loading file /tmp/best-model.pt\n"
     ]
    },
    {
     "name": "stderr",
     "output_type": "stream",
     "text": [
      "/home/wohlg/anaconda3/lib/python3.6/site-packages/torch/serialization.py:542: DeprecationWarning: Call to deprecated class DocumentLSTMEmbeddings. (The functionality of this class is moved to 'DocumentRNNEmbeddings') -- Deprecated since version 0.4.\n",
      "  result = unpickler.load()\n"
     ]
    },
    {
     "name": "stdout",
     "output_type": "stream",
     "text": [
      "[]\n"
     ]
    }
   ],
   "source": [
    "from flair.data import Sentence\n",
    "\n",
    "classifier = TextClassifier.load_from_file('/tmp/best-model.pt')\n",
    "\n",
    "# create example sentence\n",
    "sentence = Sentence('where is the bacon is it in the oven.')\n",
    "\n",
    "# predict tags and print\n",
    "classifier.predict(sentence)\n",
    "\n",
    "print(sentence.labels)"
   ]
  },
  {
   "cell_type": "code",
   "execution_count": null,
   "metadata": {},
   "outputs": [],
   "source": []
  },
  {
   "cell_type": "code",
   "execution_count": null,
   "metadata": {},
   "outputs": [],
   "source": []
  }
 ],
 "metadata": {
  "kernelspec": {
   "display_name": "Python 3",
   "language": "python",
   "name": "python3"
  },
  "language_info": {
   "codemirror_mode": {
    "name": "ipython",
    "version": 3
   },
   "file_extension": ".py",
   "mimetype": "text/x-python",
   "name": "python",
   "nbconvert_exporter": "python",
   "pygments_lexer": "ipython3",
   "version": "3.6.4"
  }
 },
 "nbformat": 4,
 "nbformat_minor": 2
}
