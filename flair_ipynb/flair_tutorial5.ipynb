{
 "cells": [
  {
   "cell_type": "markdown",
   "metadata": {},
   "source": [
    "# Tutorial 5: Document Embeddings\n"
   ]
  },
  {
   "cell_type": "markdown",
   "metadata": {},
   "source": [
    "### Pooling: calculates a pooling operation over all word embeddings in a document\n",
    "\n"
   ]
  },
  {
   "cell_type": "code",
   "execution_count": 1,
   "metadata": {
    "scrolled": true
   },
   "outputs": [
    {
     "name": "stdout",
     "output_type": "stream",
     "text": [
      "Better speed can be achieved with apex installed from https://www.github.com/nvidia/apex.\n",
      "Done\n"
     ]
    }
   ],
   "source": [
    "from flair.embeddings import WordEmbeddings, FlairEmbeddings, DocumentPoolEmbeddings, Sentence\n",
    "\n",
    "# initialize the word embeddings\n",
    "glove_embedding = WordEmbeddings('glove')\n",
    "flair_embedding_forward = FlairEmbeddings('news-forward')\n",
    "flair_embedding_backward = FlairEmbeddings('news-backward')\n",
    "\n",
    "# initialize the document embeddings, mode = mean\n",
    "document_embeddings = DocumentPoolEmbeddings([glove_embedding,\n",
    "                                              flair_embedding_backward,\n",
    "                                              flair_embedding_forward],\n",
    "                                              mode='mean') # mean (default), min, max\n",
    "print('Done')"
   ]
  },
  {
   "cell_type": "markdown",
   "metadata": {},
   "source": [
    "### Pooling: mean, min, max"
   ]
  },
  {
   "cell_type": "code",
   "execution_count": 2,
   "metadata": {
    "scrolled": true
   },
   "outputs": [
    {
     "name": "stdout",
     "output_type": "stream",
     "text": [
      "tensor([-0.3197,  0.2621,  0.4037,  ..., -0.0013, -0.0026,  0.0170])\n",
      "4196\n"
     ]
    }
   ],
   "source": [
    "# create an example sentence\n",
    "sentence = Sentence('The grass is green . And the sky is blue .')\n",
    "\n",
    "# embed the sentence with our document embedding\n",
    "document_embeddings.embed(sentence)\n",
    "\n",
    "# now check out the embedded sentence.\n",
    "print(sentence.get_embedding())\n",
    "print(len(sentence.get_embedding())"
   ]
  },
  {
   "cell_type": "code",
   "execution_count": 4,
   "metadata": {},
   "outputs": [],
   "source": [
    "sentence2 = Sentence(\"The grass is blue. And the sky too\")\n",
    "sentence3 = Sentence(\"And now for something completely different\")\n",
    "document_embeddings.embed(sentence2)\n",
    "document_embeddings.embed(sentence3)\n"
   ]
  },
  {
   "cell_type": "code",
   "execution_count": 14,
   "metadata": {},
   "outputs": [
    {
     "name": "stdout",
     "output_type": "stream",
     "text": [
      "tensor(1.0000)\n",
      "tensor(0.9510)\n",
      "tensor(0.7985)\n",
      "tensor(0.8132)\n"
     ]
    }
   ],
   "source": [
    "from torch.nn.modules import distance\n",
    "cos = distance.CosineSimilarity(dim=0)\n",
    "\n",
    "print(cos(sentence.embedding,  sentence.embedding))\n",
    "print(cos(sentence.embedding,  sentence2.embedding))\n",
    "print(cos(sentence.embedding,  sentence3.embedding))\n",
    "print(cos(sentence2.embedding, sentence3.embedding))"
   ]
  },
  {
   "cell_type": "code",
   "execution_count": 16,
   "metadata": {},
   "outputs": [
    {
     "name": "stdout",
     "output_type": "stream",
     "text": [
      "[-0.31969544  0.26205996  0.4037069  ... -0.00134025 -0.00258876\n",
      "  0.01702889]\n"
     ]
    }
   ],
   "source": [
    "print(sentence.embedding.numpy())"
   ]
  },
  {
   "cell_type": "markdown",
   "metadata": {},
   "source": [
    "## RNN\n"
   ]
  },
  {
   "cell_type": "code",
   "execution_count": 18,
   "metadata": {},
   "outputs": [],
   "source": [
    "from flair.embeddings import WordEmbeddings, DocumentRNNEmbeddings\n",
    "\n",
    "glove_embedding = WordEmbeddings('glove')\n",
    "\n",
    "document_embeddings = DocumentRNNEmbeddings([glove_embedding], rnn_type='LSTM')"
   ]
  },
  {
   "cell_type": "code",
   "execution_count": null,
   "metadata": {},
   "outputs": [],
   "source": [
    "### rnn_type: default: GRU, options: GRU, LSTM,  "
   ]
  },
  {
   "cell_type": "code",
   "execution_count": 15,
   "metadata": {},
   "outputs": [
    {
     "name": "stdout",
     "output_type": "stream",
     "text": [
      "tensor([ 0.0000, -0.0000,  0.0809, -0.0000, -0.6245,  0.0000,  0.1986,  0.0000,\n",
      "         0.0000,  0.0000,  0.5986, -0.0000,  0.0000, -0.0000,  0.0000,  0.0409,\n",
      "         0.0000,  0.0149, -0.0000, -0.0495,  0.0000,  0.0000,  0.0000, -0.0000,\n",
      "         0.2511, -0.1134,  0.5852, -0.0000, -0.5777, -0.0122,  0.0000, -0.0000,\n",
      "         0.4019,  0.2169,  0.6653, -0.6016,  0.0000, -0.3695,  0.7491, -0.0472,\n",
      "         0.0000,  0.0000, -0.4309,  0.0000,  0.0578,  0.0000, -0.4173,  0.0687,\n",
      "        -0.0000,  0.0000, -0.0248,  0.0000,  0.3273, -0.5386, -0.7355,  0.0818,\n",
      "        -0.0000,  0.3960, -0.5707,  0.4357,  0.0000, -0.0000, -0.0000, -0.0000,\n",
      "         0.0000,  0.8578,  0.0000, -0.9574, -0.7359, -0.0000,  0.8351,  0.1681,\n",
      "         0.0000,  0.0000,  0.0000,  0.7432, -0.0000,  0.0000,  0.2202,  0.0000,\n",
      "         0.1871,  0.0809,  0.0000,  0.1320,  0.1852,  0.4779, -0.0000, -0.0000,\n",
      "        -0.7601, -0.4718,  0.0000,  0.0000, -0.0977, -0.0000,  0.0649,  0.5710,\n",
      "        -0.2964,  0.0000,  0.0789, -0.0000, -0.0000, -0.0000,  0.0000,  0.0000,\n",
      "        -0.0000,  0.0000, -0.0000,  0.5223, -0.0000, -0.0000,  0.0000,  0.6830,\n",
      "         0.3289,  0.3640, -0.0000,  0.6963, -0.6213, -0.0000, -0.0000, -0.4013,\n",
      "        -0.0000, -0.0000, -0.1125,  0.0000, -0.0000, -0.0929,  0.6472,  0.0000],\n",
      "       grad_fn=<CatBackward>)\n"
     ]
    }
   ],
   "source": [
    "# create an example sentence\n",
    "sentence = Sentence('The grass is green . And the sky is blue .')\n",
    "\n",
    "# embed the sentence with our document embedding\n",
    "document_embeddings.embed(sentence)\n",
    "\n",
    "# now check out the embedded sentence.\n",
    "print(sentence.get_embedding())"
   ]
  },
  {
   "cell_type": "markdown",
   "metadata": {},
   "source": [
    "### RNN needs to be trained on downstream task -- see Tutorial 7"
   ]
  },
  {
   "cell_type": "code",
   "execution_count": null,
   "metadata": {},
   "outputs": [],
   "source": []
  },
  {
   "cell_type": "code",
   "execution_count": null,
   "metadata": {},
   "outputs": [],
   "source": []
  },
  {
   "cell_type": "code",
   "execution_count": null,
   "metadata": {},
   "outputs": [],
   "source": []
  }
 ],
 "metadata": {
  "kernelspec": {
   "display_name": "Python 3",
   "language": "python",
   "name": "python3"
  },
  "language_info": {
   "codemirror_mode": {
    "name": "ipython",
    "version": 3
   },
   "file_extension": ".py",
   "mimetype": "text/x-python",
   "name": "python",
   "nbconvert_exporter": "python",
   "pygments_lexer": "ipython3",
   "version": "3.6.4"
  }
 },
 "nbformat": 4,
 "nbformat_minor": 2
}
