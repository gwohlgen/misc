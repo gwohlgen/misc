{
 "cells": [
  {
   "cell_type": "markdown",
   "metadata": {},
   "source": [
    "# Tutorial 5: Document Embeddings\n"
   ]
  },
  {
   "cell_type": "markdown",
   "metadata": {},
   "source": [
    "### Pooling: calculates a pooling operation over all word embeddings in a document\n",
    "\n"
   ]
  },
  {
   "cell_type": "code",
   "execution_count": 1,
   "metadata": {
    "scrolled": true
   },
   "outputs": [
    {
     "name": "stdout",
     "output_type": "stream",
     "text": [
      "Better speed can be achieved with apex installed from https://www.github.com/nvidia/apex.\n",
      "Done\n"
     ]
    }
   ],
   "source": [
    "from flair.embeddings import WordEmbeddings, FlairEmbeddings, DocumentPoolEmbeddings, Sentence\n",
    "\n",
    "# initialize the word embeddings\n",
    "glove_embedding = WordEmbeddings('glove')\n",
    "flair_embedding_forward = FlairEmbeddings('news-forward')\n",
    "flair_embedding_backward = FlairEmbeddings('news-backward')\n",
    "\n",
    "# initialize the document embeddings, mode = mean\n",
    "document_embeddings = DocumentPoolEmbeddings([glove_embedding,\n",
    "                                              flair_embedding_backward,\n",
    "                                              flair_embedding_forward],\n",
    "                                              mode='mean') # mean (default), min, max\n",
    "print('Done')"
   ]
  },
  {
   "cell_type": "markdown",
   "metadata": {},
   "source": [
    "### Pooling: mean, min, max"
   ]
  },
  {
   "cell_type": "code",
   "execution_count": 4,
   "metadata": {
    "scrolled": true
   },
   "outputs": [
    {
     "name": "stdout",
     "output_type": "stream",
     "text": [
      "tensor([-0.3197,  0.2621,  0.4037,  ..., -0.0013, -0.0026,  0.0170])\n",
      "4196\n"
     ]
    }
   ],
   "source": [
    "# create an example sentence\n",
    "sentence = Sentence('The grass is green . And the sky is blue .')\n",
    "\n",
    "# embed the sentence with our document embedding\n",
    "document_embeddings.embed(sentence)\n",
    "\n",
    "# now check out the embedded sentence.\n",
    "print(sentence.get_embedding())\n",
    "print(len(sentence.get_embedding()))"
   ]
  },
  {
   "cell_type": "code",
   "execution_count": 5,
   "metadata": {},
   "outputs": [],
   "source": [
    "sentence2 = Sentence(\"The grass is blue. And the sky too\")\n",
    "sentence3 = Sentence(\"And now for something completely different\")\n",
    "document_embeddings.embed(sentence2)\n",
    "document_embeddings.embed(sentence3)\n"
   ]
  },
  {
   "cell_type": "markdown",
   "metadata": {},
   "source": [
    "### document similarity with torch library"
   ]
  },
  {
   "cell_type": "code",
   "execution_count": 6,
   "metadata": {},
   "outputs": [
    {
     "name": "stdout",
     "output_type": "stream",
     "text": [
      "tensor(1.0000)\n",
      "tensor(0.9510)\n",
      "tensor(0.7985)\n",
      "tensor(0.8132)\n"
     ]
    }
   ],
   "source": [
    "from torch.nn.modules import distance\n",
    "cos = distance.CosineSimilarity(dim=0)\n",
    "\n",
    "print(cos(sentence.embedding,  sentence.embedding))\n",
    "print(cos(sentence.embedding,  sentence2.embedding))\n",
    "print(cos(sentence.embedding,  sentence3.embedding))\n",
    "print(cos(sentence2.embedding, sentence3.embedding))"
   ]
  },
  {
   "cell_type": "code",
   "execution_count": 7,
   "metadata": {},
   "outputs": [
    {
     "name": "stdout",
     "output_type": "stream",
     "text": [
      "[-0.31969544  0.26205996  0.4037069  ... -0.00134025 -0.00258876\n",
      "  0.01702889]\n"
     ]
    }
   ],
   "source": [
    "print(sentence.embedding.numpy())"
   ]
  },
  {
   "cell_type": "markdown",
   "metadata": {},
   "source": [
    "## RNN\n"
   ]
  },
  {
   "cell_type": "code",
   "execution_count": 8,
   "metadata": {},
   "outputs": [],
   "source": [
    "from flair.embeddings import WordEmbeddings, DocumentRNNEmbeddings\n",
    "\n",
    "glove_embedding = WordEmbeddings('glove')\n",
    "\n",
    "document_embeddings = DocumentRNNEmbeddings([glove_embedding], rnn_type='LSTM')"
   ]
  },
  {
   "cell_type": "code",
   "execution_count": null,
   "metadata": {},
   "outputs": [],
   "source": [
    "### rnn_type: default: GRU, options: GRU, LSTM,  "
   ]
  },
  {
   "cell_type": "code",
   "execution_count": 9,
   "metadata": {},
   "outputs": [
    {
     "name": "stdout",
     "output_type": "stream",
     "text": [
      "tensor([-0.3425, -0.3932, -0.0000,  0.0343,  0.1381,  0.6642,  0.0630, -0.1023,\n",
      "        -0.0000,  0.0000,  0.1843, -0.0000, -0.1117, -0.1805,  0.2339, -0.0000,\n",
      "        -0.1395, -0.0000, -0.2321,  0.0000, -0.0000,  0.0000,  0.0000,  0.0000,\n",
      "        -0.0885,  0.4109, -0.0000, -0.1071,  0.0000,  0.0000,  0.0664,  0.0000,\n",
      "         0.0000, -0.0082,  0.0192,  0.0000, -0.0000,  0.0000,  0.3879,  0.0872,\n",
      "         0.5555, -0.0792, -0.0000, -0.1602, -0.2439, -0.4266,  0.4662, -0.0000,\n",
      "         0.1605,  0.0000, -0.4670, -0.3228, -0.0000,  0.0669, -0.1754, -0.0000,\n",
      "        -0.3848,  0.1116, -0.0000,  0.0000, -0.3589, -0.3977, -0.0000, -0.0000,\n",
      "         0.2012, -0.4043,  0.0000,  0.1022, -0.2845, -0.0000,  0.0000, -0.2577,\n",
      "        -0.0000,  0.0000,  0.0000,  0.0663,  0.1658, -0.6247,  0.0000, -0.0000,\n",
      "         0.0000,  0.3869,  0.1537,  0.0000,  0.0361, -0.0000,  0.0000,  0.2609,\n",
      "        -0.0635,  0.3628, -0.0000, -0.0000,  0.0000, -0.4442,  0.0021,  0.4604,\n",
      "         0.2165,  0.0000, -0.0000, -0.0927,  0.0000,  0.0000, -0.0000, -0.2415,\n",
      "        -0.5789, -0.0000, -0.2523,  0.1283, -0.3391,  0.2545,  0.0000,  0.1414,\n",
      "        -0.0000, -0.0000, -0.0031,  0.0857,  0.0760,  0.2552, -0.0000, -0.0489,\n",
      "        -0.1409,  0.0000,  0.2270,  0.0699,  0.1001, -0.1730,  0.2005,  0.0000],\n",
      "       grad_fn=<CatBackward>)\n"
     ]
    }
   ],
   "source": [
    "# create an example sentence\n",
    "sentence = Sentence('The grass is green . And the sky is blue .')\n",
    "\n",
    "# embed the sentence with our document embedding\n",
    "document_embeddings.embed(sentence)\n",
    "\n",
    "# now check out the embedded sentence.\n",
    "print(sentence.get_embedding())"
   ]
  },
  {
   "cell_type": "markdown",
   "metadata": {},
   "source": [
    "### RNN needs to be trained on downstream task -- see Tutorial 7"
   ]
  },
  {
   "cell_type": "code",
   "execution_count": null,
   "metadata": {},
   "outputs": [],
   "source": []
  }
 ],
 "metadata": {
  "kernelspec": {
   "display_name": "Python 3",
   "language": "python",
   "name": "python3"
  },
  "language_info": {
   "codemirror_mode": {
    "name": "ipython",
    "version": 3
   },
   "file_extension": ".py",
   "mimetype": "text/x-python",
   "name": "python",
   "nbconvert_exporter": "python",
   "pygments_lexer": "ipython3",
   "version": "3.6.4"
  }
 },
 "nbformat": 4,
 "nbformat_minor": 2
}
