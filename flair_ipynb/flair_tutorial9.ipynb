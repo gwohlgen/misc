{
 "cells": [
  {
   "cell_type": "markdown",
   "metadata": {},
   "source": [
    "# Tutorial 2"
   ]
  },
  {
   "cell_type": "markdown",
   "metadata": {},
   "source": [
    "## Sequence tagging with built-in models"
   ]
  },
  {
   "cell_type": "code",
   "execution_count": 37,
   "metadata": {
    "scrolled": true
   },
   "outputs": [
    {
     "name": "stdout",
     "output_type": "stream",
     "text": [
      "2019-04-20 17:33:28,968 loading file /home/wohlg/.flair/models/en-pos-ontonotes-fast-v0.2.pt\n",
      "2019-04-20 17:33:29,274 loading file /home/wohlg/.flair/models/en-ner-conll03-v0.4.pt\n"
     ]
    }
   ],
   "source": [
    "from flair.models import SequenceTagger\n",
    "\n",
    "pos_tagger = SequenceTagger.load('pos-fast')\n",
    "ner_tagger =  SequenceTagger.load('ner')\n"
   ]
  },
  {
   "cell_type": "code",
   "execution_count": 38,
   "metadata": {},
   "outputs": [
    {
     "name": "stdout",
     "output_type": "stream",
     "text": [
      "George <B-PER/NNP> Washington <E-PER/NNP> went <VBD> to <IN> Washington <S-LOC/NNP> . <.>\n"
     ]
    }
   ],
   "source": [
    "from flair.data import Sentence\n",
    "\n",
    "sentence = Sentence('George Washington went to Washington .')\n",
    "\n",
    "# predict NER tags\n",
    "ner_tagger.predict(sentence)\n",
    "pos_tagger.predict(sentence)\n",
    "# print sentence with predicted tags\n",
    "print(sentence.to_tagged_string())\n"
   ]
  },
  {
   "cell_type": "code",
   "execution_count": 39,
   "metadata": {},
   "outputs": [
    {
     "name": "stdout",
     "output_type": "stream",
     "text": [
      "2019-04-20 17:33:34,115 loading file /home/wohlg/.flair/models/en-frame-ontonotes-v0.2.pt\n",
      "George returned <return.01> to Berlin to return <return.02> his hat .\n",
      "He had <have.LV> a look <look.01> at different hats .\n"
     ]
    }
   ],
   "source": [
    "# load model\n",
    "tagger = SequenceTagger.load('frame')\n",
    "\n",
    "# make German sentence\n",
    "sentence_1 = Sentence('George returned to Berlin to return his hat .')\n",
    "sentence_2 = Sentence('He had a look at different hats .')\n",
    "\n",
    "# predict NER tags\n",
    "tagger.predict(sentence_1)\n",
    "tagger.predict(sentence_2)\n",
    "\n",
    "# print sentence with predicted tags\n",
    "print(sentence_1.to_tagged_string())\n",
    "print(sentence_2.to_tagged_string())"
   ]
  },
  {
   "cell_type": "code",
   "execution_count": 40,
   "metadata": {},
   "outputs": [
    {
     "name": "stdout",
     "output_type": "stream",
     "text": [
      "2019-04-20 17:33:47,773 loading file /home/wohlg/.flair/models/en-ner-conll03-v0.4.pt\n"
     ]
    },
    {
     "data": {
      "text/plain": [
       "[Sentence: \"This is a sentence .\" - 5 Tokens,\n",
       " Sentence: \"This is another sentence .\" - 5 Tokens,\n",
       " Sentence: \"I love Saint Petersburg .\" - 5 Tokens]"
      ]
     },
     "execution_count": 40,
     "metadata": {},
     "output_type": "execute_result"
    }
   ],
   "source": [
    "# your text of many sentences\n",
    "text = \"This is a sentence. This is another sentence. I love Saint Petersburg.\"\n",
    "\n",
    "# use a library to split into sentences\n",
    "from segtok.segmenter import split_single\n",
    "sentences = [Sentence(sent, use_tokenizer=True) for sent in split_single(text)]\n",
    "\n",
    "# predict tags for list of sentences\n",
    "tagger: SequenceTagger = SequenceTagger.load('ner')\n",
    "tagger.predict(sentences)"
   ]
  },
  {
   "cell_type": "code",
   "execution_count": 41,
   "metadata": {},
   "outputs": [
    {
     "name": "stdout",
     "output_type": "stream",
     "text": [
      "2019-04-20 17:34:03,806 loading file /home/wohlg/.flair/models/imdb.pt\n"
     ]
    },
    {
     "name": "stderr",
     "output_type": "stream",
     "text": [
      "/home/wohlg/anaconda3/lib/python3.6/site-packages/torch/serialization.py:542: DeprecationWarning: Call to deprecated class DocumentLSTMEmbeddings. (The functionality of this class is moved to 'DocumentRNNEmbeddings') -- Deprecated since version 0.4.\n",
      "  result = unpickler.load()\n"
     ]
    }
   ],
   "source": [
    "from flair.models import TextClassifier\n",
    "\n",
    "classifier = TextClassifier.load('en-sentiment')"
   ]
  },
  {
   "cell_type": "code",
   "execution_count": 42,
   "metadata": {},
   "outputs": [
    {
     "name": "stdout",
     "output_type": "stream",
     "text": [
      "[NEGATIVE (1.0)]\n"
     ]
    }
   ],
   "source": [
    "sentence = Sentence('This film hurts. It is so bad that I am confused.')\n",
    "\n",
    "# predict NER tags\n",
    "classifier.predict(sentence)\n",
    "\n",
    "# print sentence with predicted labels\n",
    "print(sentence.labels)"
   ]
  },
  {
   "cell_type": "code",
   "execution_count": null,
   "metadata": {},
   "outputs": [],
   "source": []
  }
 ],
 "metadata": {
  "kernelspec": {
   "display_name": "Python 3",
   "language": "python",
   "name": "python3"
  },
  "language_info": {
   "codemirror_mode": {
    "name": "ipython",
    "version": 3
   },
   "file_extension": ".py",
   "mimetype": "text/x-python",
   "name": "python",
   "nbconvert_exporter": "python",
   "pygments_lexer": "ipython3",
   "version": "3.6.4"
  }
 },
 "nbformat": 4,
 "nbformat_minor": 2
}
