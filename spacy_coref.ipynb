{
 "cells": [
  {
   "cell_type": "markdown",
   "metadata": {},
   "source": [
    "# spaCy coref example"
   ]
  },
  {
   "cell_type": "markdown",
   "metadata": {},
   "source": [
    "### Important (see link about for details): \n",
    "\n",
    "Installation and basics, see: https://github.com/huggingface/neuralcoref\n",
    "\n",
    "\n",
    "* Install the necessary spacy model, here we use: \"en_coref_md\"\n",
    "* Clone the git repo for neuralcoref# Spacy coref"
   ]
  },
  {
   "cell_type": "markdown",
   "metadata": {},
   "source": [
    "### Let's go\n",
    "\n",
    "* load spaCy\n",
    "* play with example sentences.\n",
    "\n",
    "    "
   ]
  },
  {
   "cell_type": "code",
   "execution_count": 2,
   "metadata": {},
   "outputs": [
    {
     "name": "stdout",
     "output_type": "stream",
     "text": [
      "Model loaded\n"
     ]
    }
   ],
   "source": [
    "import spacy\n",
    "nlp = spacy.load('en_coref_md')\n",
    "\n",
    "print(\"Model loaded\")\n"
   ]
  },
  {
   "cell_type": "code",
   "execution_count": 5,
   "metadata": {},
   "outputs": [
    {
     "name": "stdout",
     "output_type": "stream",
     "text": [
      "We found co-refs in the text?: True\n",
      "\n",
      "Co-ref clusters found:\n",
      "[My sister: [My sister, She, She], a dog: [a dog, him, him]]\n"
     ]
    }
   ],
   "source": [
    "doc = nlp(u'My sister has a dog. She loves him. She walks with him.')\n",
    "\n",
    "\n",
    "print(\"We found co-refs in the text?:\", doc._.has_coref)\n",
    "print(\"\\nCo-ref clusters found:\")\n",
    "print(doc._.coref_clusters)"
   ]
  },
  {
   "cell_type": "markdown",
   "metadata": {},
   "source": [
    "## Resolved .. might be what we need in the research project"
   ]
  },
  {
   "cell_type": "code",
   "execution_count": 9,
   "metadata": {},
   "outputs": [
    {
     "name": "stdout",
     "output_type": "stream",
     "text": [
      "--'Resolved' version of the text, with co-refs replaced with 'main' mention.--\n",
      "\n",
      "My sister has a dog. My sister loves a dog. My sister walks with a dog.\n"
     ]
    }
   ],
   "source": [
    "print(\"--'Resolved' version of the text, with co-refs replaced with 'main' mention.--\\n\")\n",
    "print(doc._.coref_resolved)\n"
   ]
  },
  {
   "cell_type": "markdown",
   "metadata": {},
   "source": [
    "### Create vector from a sentence\n",
    "We simple compute the average of the word vectors"
   ]
  },
  {
   "cell_type": "code",
   "execution_count": 22,
   "metadata": {},
   "outputs": [
    {
     "name": "stdout",
     "output_type": "stream",
     "text": [
      "[My sister: [My sister, She], a dog: [a dog, him]]\n",
      "[a dog, him]\n",
      "him\n",
      "a dog\n",
      "\n",
      "True\n",
      "[a dog: [a dog, him]]\n",
      "\n",
      "True\n",
      "a dog\n",
      "a dog: [a dog, him]\n"
     ]
    }
   ],
   "source": [
    "\n",
    "doc = nlp(u'My sister has a dog. She loves him')\n",
    "\n",
    "print(doc._.coref_clusters)\n",
    "print(doc._.coref_clusters[1].mentions)\n",
    "print(doc._.coref_clusters[1].mentions[-1])\n",
    "print(doc._.coref_clusters[1].mentions[-1]._.coref_cluster.main)\n",
    "\n",
    "print()\n",
    "token = doc[-1] # get \"him\" token\n",
    "print(token._.in_coref)\n",
    "print(token._.coref_clusters)\n",
    "\n",
    "print()\n",
    "span = doc[-1:] # get \"him\" token\n",
    "print(span._.is_coref)\n",
    "print(span._.coref_cluster.main)\n",
    "print(span._.coref_cluster.main._.coref_cluster)"
   ]
  },
  {
   "cell_type": "markdown",
   "metadata": {},
   "source": [
    "### Let's try a big doc\n",
    ".. and see if Coref works on this?"
   ]
  },
  {
   "cell_type": "code",
   "execution_count": 10,
   "metadata": {},
   "outputs": [],
   "source": [
    "# random text from ASOIF winds of winter preview\n",
    "doc2 = nlp(u\"\"\"The passageway Arianne had chosen for herself turned steep and wet within a hundred feet. \n",
    "The footing grew uncertain. Once she slipped, and had to catch herself to keep from sliding. \n",
    "More than once she considered turning back, \n",
    "but she could see Ser Daemon’s torch ahead and hear him calling for Elia, \n",
    "so she pressed on. And all at once she found herself in another cavern, \n",
    "five times as big as the last one, surrounded by a forest of stone columns. \n",
    "Daemon Sand moved to her side and raised his torch. “Look how the stone’s been shaped,” he said. \n",
    "“Those columns, and the wall there. See them?”\n",
    "\n",
    "“Faces,” said Arianne. So many sad eyes, staring.\n",
    "\n",
    "“This place belonged to the children of the forest.”\n",
    "\n",
    "“A thousand years ago.” Arianne turned her head. “Listen. Is that Joss?”\n",
    "\n",
    "It was. The other searchers had found Elia, as she and Daemon learned after they made their way \n",
    "back up the slippery slope to the last hall. Their passageway led down to a still black pool, \n",
    "where they discovered the girl up to her waist in water, catching blind white fish with her bare hands, \n",
    "her torch burning red and smoky in the sand where she had planted it.\n",
    "\n",
    "“You could have died,” Arianne told her, when she’d heard the tale. She grabbed Elia by the arm and shook her.\n",
    "“If that torch had gone out you would have been alone in the dark, as good as blind. \n",
    "What did you think that you were doing?”\n",
    "\n",
    "“I caught two fish,” said Elia Sand.\n",
    "\n",
    "“You could have died,” said Arianne again. Her words echoed off the cavern walls. “…died… died … died…”\n",
    "\n",
    " Later, when they had made their back to the surface and her anger had cooled, \n",
    " the princess took the girl aside and sat her down. “Elia, this must end,” she told her. \n",
    " “We are not in Dorne now. You are not with your sisters, and this is not a game. \n",
    " I want your word that you will play the maidservant until we are safely back at Sunspear. \n",
    " I want you meek and mild and obedient. You need to hold your tongue. \n",
    " I’ll hear no more talk of Lady Lance or jousting, no mention of your father or your sisters. \n",
    " The men that I must treat with are sellswords. Today they serve this man who calls himself Jon Connington, \n",
    " but come the morrow they could just as easily serve the Lannisters. All it takes to win a sellsword’s heart \n",
    " is gold, and casterly Rock does not lack for that. If the wrong man should learn who you are, \n",
    " you could be seized and held for ransom–“\n",
    "\n",
    "“No,” Elia broke in. “You’re the one they’ll want to ransom. You’re the heir to Dorne, \n",
    "I’m just a bastard girl. Your father would give a chest of gold for you. My father’s dead.”\n",
    "\n",
    "“Dead, but not forgotten,” said Arianne, who had spent half her life wishing Prince Oberyn had been her father.\n",
    "“You are a Sand Snake, and Prince Doran would pay any price to keep you and your sisters safe from harm.” \n",
    "That made the child smile at least. “Do I have your sworn word? Or must I send you back?”\n",
    "\n",
    "“I swear.” Elia did not sound happy.\n",
    "\n",
    "“On your father’s bones.”\n",
    "\n",
    "“On my father’s bones.”\n",
    "\n",
    "That vow she will keep, Arianne decided. She kissed her cousin on the cheek and sent her off to sleep.  \n",
    "Perhaps some good would come of her adventure. “I never knew how wild she was till now,” Arianne complained \n",
    "to Daemon Sand, afterward.  “Why would my father inflict her on me?”\n",
    "\n",
    "“Vengeance?” the knight suggested, with a smile.\n",
    "\n",
    "They reached Mistwood late on the third day. Ser Daemon sent Joss Hood ahead to scout for them and learn \n",
    "who held the castle presently.  “Twenty men walking the walls, maybe more,” he reported on his return. \n",
    "“Lots of carts and wagons. Heavy laden going in, empty going out. Guards at every gate.”\n",
    "\n",
    "“Banners?” asked Arianne.\n",
    "\n",
    "“Gold. On the gatehouse and the keep.”\n",
    "\n",
    "“What device did they bear?”\n",
    "\n",
    "“None that I could see, but there was no wind. The banners hung limp from their staffs.”\n",
    "\"\"\")\n"
   ]
  },
  {
   "cell_type": "code",
   "execution_count": 12,
   "metadata": {},
   "outputs": [
    {
     "name": "stdout",
     "output_type": "stream",
     "text": [
      "True\n",
      "\n",
      "[The passageway Arianne: [The passageway Arianne, herself, she, herself, she, she, she, she, herself, her],\n",
      " Ser Daemon’s: [Ser Daemon’s, him, his, he],\n",
      " Ser Daemon’s torch ahead: [Ser Daemon’s torch ahead, his torch],\n",
      " Those columns, and the wall there: [Those columns, and the wall there, them],\n",
      " Arianne: [Arianne, Arianne, her],\n",
      " The other searchers: [The other searchers, they, their, Their, they],\n",
      " Elia: [Elia, she],\n",
      " the girl: [the girl, her, her, her, she, her, she, She, her, Her, her, the princess, the girl, her, she, her],\n",
      " her torch: [her torch, it, that torch],\n",
      " Arianne: [Arianne, Arianne],\n",
      " they: [they, their],\n",
      " We: [We, we],\n",
      " The men that I must treat with are sellswords: [The men that I must treat with are sellswords, they, they, they],\n",
      " Your father: [Your father, you, My father],\n",
      " her: [her, her],\n",
      " her father: [her father, your father, my father, she, She, her, her, her, she, my father, her, he, his],\n",
      " \n",
      "\n",
      ": [\n",
      "\n",
      ", \n",
      "\n",
      "],\n",
      " Arianne: [Arianne, Arianne],\n",
      " They: [They, them],\n",
      " “Banners: [“Banners, The banners, their],\n",
      " ”: [”, ”\n",
      "]]\n"
     ]
    }
   ],
   "source": [
    "print(doc2._.has_coref)\n",
    "print()\n",
    "from pprint import pprint\n",
    "pprint(doc2._.coref_clusters)\n"
   ]
  },
  {
   "cell_type": "code",
   "execution_count": 15,
   "metadata": {},
   "outputs": [],
   "source": [
    "doc3 = nlp(u\"\"\" what proof have we\n",
    "will saw them gared said\n",
    "if he says they are dead that proof enough for me\n",
    "will had known they would drag him into the quarrel sooner or later\n",
    "he wished it had been later rather than sooner\n",
    "my mother told me that dead men sing no songs he put in\n",
    "my wet nurse said the same thing will royce replied\n",
    "never believe anything you hear at woman tit\n",
    "there are things to be learned even from the dead\n",
    "his voice echoed too loud in the twilit forest\n",
    "we have long ride before us gared pointed out\n",
    "eight days maybe nine\n",
    "and night is falling\n",
    "ser waymar royce glanced at the sky with disinterest\n",
    "it does that every day about this time\n",
    "are you unmanned by the dark gared\n",
    "will could see the tightness around gared mouth the barely sup pressed anger in his eyes under the thick black hood of his cloak\n",
    "gared had spent forty years in the night watch man and boy and he was not accustomed to being made light of\n",
    "yet it was more than that\n",
    "under the wounded pride will could sense something else in the older man\n",
    "you could taste it nervous tension that came perilous close to fear\n",
    "will shared his unease\n",
    "he had been four years on the wall\n",
    "the first time he had been sent beyond all the old stories had come rushing back and his bowels had turned to water\n",
    "he had laughed about it afterward\n",
    "he was veteran of hundred rangings by now and the endless dark wilderness that the southron called the haunted forest had no more terrors for him\n",
    "until tonight\n",
    "something was different tonight\n",
    "there was an edge to this darkness that made his hackles rise\n",
    "nine days they had been riding north and northwest and then north again farther and farther from the wall hard on the track of band of wildling raiders\n",
    "each day had been worse than the day that had come before it\n",
    "today was the worst of all\n",
    "cold wind was blowing out of the north and it made the trees rustle like living things\n",
    "all day will had felt as though something were watching him something cold and implacable that loved him not\n",
    "gared had felt it too\n",
    "\"\"\")"
   ]
  },
  {
   "cell_type": "code",
   "execution_count": 16,
   "metadata": {},
   "outputs": [
    {
     "name": "stdout",
     "output_type": "stream",
     "text": [
      "True\n",
      "\n",
      "[ what proof: [ what proof, them, he, they, they, him, he, he, his],\n",
      " we: [we, us],\n",
      " ser waymar royce: [ser waymar royce, it],\n",
      " barely sup: [barely sup, his, his],\n",
      " man and boy: [man and boy, he],\n",
      " his: [his, he, he, his, he, he, him, his],\n",
      " water\n",
      ": [water\n",
      ", it],\n",
      " tonight\n",
      ": [tonight\n",
      ", tonight\n",
      "],\n",
      " his hackles: [his hackles, they],\n",
      " it: [it, it, it],\n",
      " him: [him, him]]\n"
     ]
    }
   ],
   "source": [
    "print(doc3._.has_coref)\n",
    "print()\n",
    "pprint(doc3._.coref_clusters)"
   ]
  },
  {
   "cell_type": "markdown",
   "metadata": {},
   "source": [
    "## Intuitive Results from big docs\n",
    "* Docs should be split into \"small\" paragraphs\n",
    "* Not preprocessing before coref -- it messes stuff up"
   ]
  }
 ],
 "metadata": {
  "kernelspec": {
   "display_name": "Python 3",
   "language": "python",
   "name": "python3"
  },
  "language_info": {
   "codemirror_mode": {
    "name": "ipython",
    "version": 3
   },
   "file_extension": ".py",
   "mimetype": "text/x-python",
   "name": "python",
   "nbconvert_exporter": "python",
   "pygments_lexer": "ipython3",
   "version": "3.6.4"
  }
 },
 "nbformat": 4,
 "nbformat_minor": 2
}
